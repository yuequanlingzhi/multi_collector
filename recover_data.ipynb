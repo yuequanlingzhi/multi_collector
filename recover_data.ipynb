{
 "cells": [
  {
   "cell_type": "code",
   "execution_count": 8,
   "id": "cd2b99f6",
   "metadata": {},
   "outputs": [],
   "source": [
    "import numpy as np\n",
    "\n",
    "data = np.load(r\"data\\jkjkjk95\\平静\\IR_camera\\1755928035.7015848f30c894.npz\")\n",
    "frames = data['frames']\n",
    "frame_lens = data['frame_lens']"
   ]
  },
  {
   "cell_type": "code",
   "execution_count": 9,
   "id": "3eca0edb",
   "metadata": {},
   "outputs": [],
   "source": [
    "import cv2\n",
    "for i,frame in enumerate(frames):\n",
    "    frame_data = frame[:frame_lens[i]]\n",
    "    # cv2解码\n",
    "    img = cv2.imdecode(frame_data, cv2.IMREAD_GRAYSCALE)\n",
    "    cv2.imshow('img',img)\n",
    "    key = cv2.waitKey(1)\n",
    "    if key == ord('q'):\n",
    "        break\n",
    "cv2.destroyAllWindows()\n"
   ]
  }
 ],
 "metadata": {
  "kernelspec": {
   "display_name": "robot",
   "language": "python",
   "name": "python3"
  },
  "language_info": {
   "codemirror_mode": {
    "name": "ipython",
    "version": 3
   },
   "file_extension": ".py",
   "mimetype": "text/x-python",
   "name": "python",
   "nbconvert_exporter": "python",
   "pygments_lexer": "ipython3",
   "version": "3.6.13"
  }
 },
 "nbformat": 4,
 "nbformat_minor": 5
}
